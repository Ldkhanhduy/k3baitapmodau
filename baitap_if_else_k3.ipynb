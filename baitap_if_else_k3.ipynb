{
  "nbformat": 4,
  "nbformat_minor": 0,
  "metadata": {
    "colab": {
      "provenance": [],
      "authorship_tag": "ABX9TyOqEdXPM9zR7BK1gFdH8HPY",
      "include_colab_link": true
    },
    "kernelspec": {
      "name": "python3",
      "display_name": "Python 3"
    },
    "language_info": {
      "name": "python"
    }
  },
  "cells": [
    {
      "cell_type": "markdown",
      "metadata": {
        "id": "view-in-github",
        "colab_type": "text"
      },
      "source": [
        "<a href=\"https://colab.research.google.com/github/Ldkhanhduy/k3baitapmodau/blob/main/baitap_if_else_k3.ipynb\" target=\"_parent\"><img src=\"https://colab.research.google.com/assets/colab-badge.svg\" alt=\"Open In Colab\"/></a>"
      ]
    },
    {
      "cell_type": "markdown",
      "source": [
        "Bài 1: Hãy vẽ lưu đồ thuật toán (bằng draw.io) và viết chương trình giải phương trình bậc 1: ax +\n",
        "b = 0 với a, b ∈ R. Nhập giá trị hệ số a, b từ bàn phím."
      ],
      "metadata": {
        "id": "6b5ReaXTOBML"
      }
    },
    {
      "cell_type": "code",
      "execution_count": null,
      "metadata": {
        "colab": {
          "base_uri": "https://localhost:8080/"
        },
        "id": "jS_nZuvROAUA",
        "outputId": "f5779dc4-d1a0-41ef-d104-fed3ee2da211"
      },
      "outputs": [
        {
          "name": "stdout",
          "output_type": "stream",
          "text": [
            "a=4\n"
          ]
        }
      ],
      "source": [
        "a1=float(input(\"a=\"))\n"
      ]
    },
    {
      "cell_type": "code",
      "source": [
        "b1=float(input(\"b=\"))\n"
      ],
      "metadata": {
        "colab": {
          "base_uri": "https://localhost:8080/"
        },
        "id": "R52b2rJ9OQE5",
        "outputId": "fbcfa6fd-7385-4101-ab8f-7cac175cf51a"
      },
      "execution_count": null,
      "outputs": [
        {
          "name": "stdout",
          "output_type": "stream",
          "text": [
            "b=9\n"
          ]
        }
      ]
    },
    {
      "cell_type": "code",
      "source": [
        "if b1==0:\n",
        "  if a1==0:\n",
        "    print(\"Phuong trinh vo so nghiem\")\n",
        "  else:\n",
        "    print(\"x=0\")\n",
        "else:\n",
        "  if a1==0:\n",
        "    print(\"Phuong trinh vo nghiem\")\n",
        "  else:\n",
        "    print(\"Nghiem cua phuong trinh la\", (-b1)/a1)\n"
      ],
      "metadata": {
        "colab": {
          "base_uri": "https://localhost:8080/"
        },
        "id": "ebzZ_MdhOTSZ",
        "outputId": "9d6fe0cf-429f-44bc-c8eb-90297f5e7f5a"
      },
      "execution_count": null,
      "outputs": [
        {
          "output_type": "stream",
          "name": "stdout",
          "text": [
            "Nghiem cua phuong trinh la -2.25\n"
          ]
        }
      ]
    },
    {
      "cell_type": "markdown",
      "source": [
        "Bài 2: Hãy vẽ lưu đồ thuật toán (bằng draw.io) và viết chương trình giải phương trình bậc 2: ax\n",
        "2 +\n",
        "\n",
        "bx + c = 0 với a, b, c ∈ R. Nhập giá trị các hệ số a, b và c từ bàn phím."
      ],
      "metadata": {
        "id": "F5jLCw4UPOTR"
      }
    },
    {
      "cell_type": "code",
      "source": [
        "a2=float(input(\"a=\"))\n"
      ],
      "metadata": {
        "colab": {
          "base_uri": "https://localhost:8080/"
        },
        "id": "D_ND2AH1PQ_h",
        "outputId": "fb04af75-532c-4e6d-b249-b333c7a06088"
      },
      "execution_count": null,
      "outputs": [
        {
          "name": "stdout",
          "output_type": "stream",
          "text": [
            "a=4\n"
          ]
        }
      ]
    },
    {
      "cell_type": "code",
      "source": [
        "b2=float(input(\"b=\"))\n"
      ],
      "metadata": {
        "colab": {
          "base_uri": "https://localhost:8080/"
        },
        "id": "zfjpZggmPVXR",
        "outputId": "1aa27bf1-3d64-4551-9bf5-a46751dfb7d1"
      },
      "execution_count": null,
      "outputs": [
        {
          "name": "stdout",
          "output_type": "stream",
          "text": [
            "b=3\n"
          ]
        }
      ]
    },
    {
      "cell_type": "code",
      "source": [
        "c2=float(input(\"c=\"))"
      ],
      "metadata": {
        "colab": {
          "base_uri": "https://localhost:8080/"
        },
        "id": "wT_USVOEPy9B",
        "outputId": "ad27fa24-b853-44a8-e5c4-bb4e0123b7c3"
      },
      "execution_count": null,
      "outputs": [
        {
          "name": "stdout",
          "output_type": "stream",
          "text": [
            "c=9\n"
          ]
        }
      ]
    },
    {
      "cell_type": "code",
      "source": [
        "if a2==0:\n",
        "  if (c2==0):\n",
        "    if (b2==0):\n",
        "      print(\"vo so nghiem\")\n",
        "    else:\n",
        "      print(\"x=0\")\n",
        "  else:\n",
        "    if (b2==0):\n",
        "      print(\"vo nghiem\")\n",
        "    else:\n",
        "      print(\"nghiem cua phuong trinh la:\", (-c2/b2))\n",
        "else:\n",
        "  if ((b2**2-4*a2*c2)<0):\n",
        "    print(\"vo nghiem\")\n",
        "  if ((b2**2-4*a2*c2)==0):\n",
        "    print(\"phuong trinh co mot nghiem kep la:\", ((-b2)/(2*a2)))\n",
        "  if ((b2**2-4*a2*c2)>0):\n",
        "    print(\"phuong trinh co hai nghiem la:\", (-b2+(b2**2-4*a2*c2)**(1/2))/(2*a2), \"va\", (-b2-(b2**2-4*a2*c2)**(1/2)/(2*a2)))"
      ],
      "metadata": {
        "colab": {
          "base_uri": "https://localhost:8080/"
        },
        "id": "ESUambX4PYPD",
        "outputId": "24063ea1-121e-4dd8-d273-6b16a0efe642"
      },
      "execution_count": null,
      "outputs": [
        {
          "output_type": "stream",
          "name": "stdout",
          "text": [
            "vo nghiem\n"
          ]
        }
      ]
    },
    {
      "cell_type": "markdown",
      "source": [
        "Bài 3: Hãy vẽ lưu đồ thuật toán (bằng draw.io) và viết chương trình giải phương trình bậc 3: ax\n",
        "3 +\n",
        "\n",
        "bx\n",
        "2 + cx + d = 0 với a, b, c, d ∈ R. Nhập giá trị các hệ số a, b, c và d từ bàn phím. Tham khảo"
      ],
      "metadata": {
        "id": "c0NL-sdSQXEC"
      }
    },
    {
      "cell_type": "code",
      "source": [
        "a=float(input(\"a=\"))\n",
        "b=float(input(\"b=\"))\n",
        "c=float(input(\"c=\"))\n",
        "d=float(input(\"d=\"))\n"
      ],
      "metadata": {
        "colab": {
          "base_uri": "https://localhost:8080/"
        },
        "id": "1DAttZUsQbuR",
        "outputId": "9ba80b50-f9b2-435e-d14f-e3691f49268d"
      },
      "execution_count": null,
      "outputs": [
        {
          "name": "stdout",
          "output_type": "stream",
          "text": [
            "a=3\n",
            "b=6\n",
            "c=34\n",
            "d=2\n"
          ]
        }
      ]
    },
    {
      "cell_type": "code",
      "source": [
        "if a==0:\n",
        "  if a2==0:\n",
        "    if (c2==0):\n",
        "      if (b2==0):\n",
        "        print(\"vo so nghiem\")\n",
        "      else:\n",
        "        print(\"vo nghiem\")\n",
        "    else:\n",
        "      print(\"nghiem cua phuong trinh la:\", (-c2/b2))\n",
        "  else:\n",
        "    if ((b2**2-4*a2*c2)<0):\n",
        "      print(\"vo nghiem\")\n",
        "    if ((b2**2-4*a2*c2)==0):\n",
        "      print(\"phuong trinh co mot nghiem kep la:\", ((-b2)/(2*a2)))\n",
        "    if ((b2**2-4*a2*c2)>0):\n",
        "      print(\"phuong trinh co hai nghiem la:\", (-b2+(b2**2-4*a2*c2)**(1/2))/(2*a2), \"va\", (-b2-(b2**2-4*a2*c2)**(1/2)/(2*a2)))"
      ],
      "metadata": {
        "id": "GUMm_wbdaw9u"
      },
      "execution_count": null,
      "outputs": []
    },
    {
      "cell_type": "code",
      "source": [
        "import math\n",
        "delta=b**2-3*a*c\n",
        "k=(9*a*b*c-2*b**3-27*a**2*d)/(2*math.sqrt(math.fabs(delta)**3))"
      ],
      "metadata": {
        "id": "iw8HFzcvRx2w"
      },
      "execution_count": null,
      "outputs": []
    },
    {
      "cell_type": "code",
      "source": [
        "import math\n",
        "\n",
        "if delta > 0:\n",
        "  if math.fabs(k) <= 1:\n",
        "    print(\"Phương trình có ba nghiệm:\")\n",
        "    print(\"x1=\",((2*math.sqrt(delta)*math.cos(math.acos(k)/3))-b)/(3*a))\n",
        "    print(\"x2=\",((2*math.sqrt(delta)*math.cos((math.acos(k)/3)-((2*math.pi)/3)))-b)/3*a)\n",
        "    print(\"x3=\",((2*math.sqrt(delta)*math.cos((math.acos(k)/3)+((2*math.pi)/3)))-b)/3*a)\n",
        "  else:\n",
        "    print(\"Phương trình óc một nghiệm duy nhất:\")\n",
        "    print(\"x=\", ((math.sqrt(delta)*math.fabs(k))/(3*a*k))*((math.fabs(k)+math.sqrt(k**2-1))**(1/3)+(math.fabs(k)-math.sqrt(k**2-1))**(1/3))-(b/(3*a)))\n",
        "if delta ==0:\n",
        "  if (b**3-27*a**2*d) ==0:\n",
        "    print(\"Phương trình óc nghiệm bội:\")\n",
        "    print(\"x=\", (-b)/(3*a))\n",
        "  else:\n",
        "    print(\"Phương trình có một nghiệm duy nhất\")\n",
        "    print(\"x=\", ((-b)+(b**3-27*a**2*d)**(1/3))/(3*a))\n",
        "else:\n",
        "  print(\"Phương trình có một nghiệm duy nhất:\")\n",
        "  print(\"x=\", (math.sqrt(math.fabs(delta))/(3*a))*((k+math.sqrt(k**2+1))**(1/3)+(k-math.sqrt(k**2+1))**(1/3))-(b/(3*a)))\n"
      ],
      "metadata": {
        "colab": {
          "base_uri": "https://localhost:8080/"
        },
        "id": "02x_m2zjS-FA",
        "outputId": "f9899912-b816-4a2d-a047-addae1c51260"
      },
      "execution_count": null,
      "outputs": [
        {
          "output_type": "stream",
          "name": "stdout",
          "text": [
            "Phương trình có một nghiệm duy nhất:\n",
            "x= (2.26136616230068+1.3399112812769494j)\n"
          ]
        }
      ]
    },
    {
      "cell_type": "markdown",
      "source": [
        "Bài 4: Viết chương trình nhập username và password từ bàn phím. Nếu username = ‘cntt’ và\n",
        "password = ‘trituenhantao’ thì thông báo đăng nhập thành công."
      ],
      "metadata": {
        "id": "hTZ_0svZRFaZ"
      }
    },
    {
      "cell_type": "code",
      "source": [],
      "metadata": {
        "id": "-96oIyH3RGR4"
      },
      "execution_count": null,
      "outputs": []
    },
    {
      "cell_type": "code",
      "source": [],
      "metadata": {
        "id": "rg_N_qW_biH8"
      },
      "execution_count": null,
      "outputs": []
    }
  ]
}